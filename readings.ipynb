{
 "cells": [
  {
   "cell_type": "code",
   "execution_count": 1,
   "metadata": {},
   "outputs": [],
   "source": [
    "papers = [\n",
    "    'David Ha and Jürgen Schmidhuber, \"World Models\", 2018.',\n",
    "    'BM Lake et al, \"Human-level concept learning through probabilistic Induction\", 2018.',\n",
    "    'Ilya Loshchilov and Frank Hutter, \"Decoupled weight decay regularization\", 2019.',\n",
    "    'Shibani Santurkar et al, \"How Does Batch Normalization Help Optimization?\", 2018.',\n",
    "    'Naftali Tishby and Noga Zavlasky, \"Deep Learning and the Information Bottleneck Principle\", 2015.',\n",
    "    'AM Saxe et al, \"On the Information Bottleneck Theory of Deep Learning\", 2018.',\n",
    "    'Gao Huang et al, \"Densely Connected Convolutional Networks\", 2016.',\n",
    "    'Geoffrey Hinton et al, \"Distilling the Knowledge in a Neural Network\", 2015.',\n",
    "    'Alec Radford et al, \"Language Models are Unsupervised Multitask Learners\", 2019.',\n",
    "    'Tero Karras et al, \"A Style-Based Generator Architecture for Generative Adversarial Networks\", 2018.',\n",
    "    'LG Valiant, \"A theory of the learnable\", 1984.',\n",
    "    'Guillaume Lample et al, \"Phrase-Based & Neural Unsupervised Machine Translation\", 2018.',\n",
    "    'Bobak Shahriari et al, \"Taking the human out of the loop bayesian optimization\", 2016.',\n",
    "    'Nicolas Courty et al, \"Optimal transport domain adaptation\", 2015.',\n",
    "    'Pang Wei Koh and Percy Liang, \"Understanding black-box predictions via influence functions\", 2017.',\n",
    "    'Corinna Cortes et al. \"AdaNet: Adaptive Structural Learning of Artificial Neural Networks\", 2016.',\n",
    "    'Tianqi Chen et al. \"XGBoost: a scalable Tree Boosting System\", 2016.',\n",
    "    'Balaji Lakshminarayanan et al., \"Mondrian forests: efficient online random forests\", 2014.',\n",
    "    'Theodoros Evgeniou et al. \"Learning multiple tasks with kernel methods\", 2005.',\n",
    "    'William H. Beluch et al. \"The power of ensembles for active learning in image classification\", 2018.'\n",
    "]"
   ]
  },
  {
   "cell_type": "code",
   "execution_count": 2,
   "metadata": {},
   "outputs": [],
   "source": [
    "groups = [\n",
    "    'Maxime Aerts, Arnaud Fombellida',\n",
    "    'Romain Bajoit, Nicolas Bajoit',\n",
    "    'Bolland Adrien, François Cornet',\n",
    "    'Aubry Julie, Minh cedric Schils',\n",
    "    'Sacha Catherine, Joachim Roekens',\n",
    "    'Julien De Cooman, Alexandre Lhoest',\n",
    "    'Lionel Mathy, Pierre-Loup Nicolas',\n",
    "    'Seron Damien, Arnaud Delaunoy',\n",
    "    'Cyril Geortay, Maxime Vandegar',\n",
    "    'Maxime Lamborelle, Thibault Renaud',\n",
    "    'Tom Crasset, Antoine Louis',\n",
    "    'Aurélien Werenne, Eduardo Varas Gandara',    \n",
    "    #'Nasarre Marcos Susin',\n",
    "]"
   ]
  },
  {
   "cell_type": "code",
   "execution_count": 3,
   "metadata": {},
   "outputs": [
    {
     "name": "stdout",
     "output_type": "stream",
     "text": [
      "Maxime Aerts, Arnaud Fombellida\n",
      "--> Gao Huang et al, \"Densely Connected Convolutional Networks\", 2016.\n",
      "\n",
      "Romain Bajoit, Nicolas Bajoit\n",
      "--> Tianqi Chen et al. \"XGBoost: a scalable Tree Boosting System\", 2016.\n",
      "\n",
      "Bolland Adrien, François Cornet\n",
      "--> Nicolas Courty et al, \"Optimal transport domain adaptation\", 2015.\n",
      "\n",
      "Aubry Julie, Minh cedric Schils\n",
      "--> AM Saxe et al, \"On the Information Bottleneck Theory of Deep Learning\", 2018.\n",
      "\n",
      "Sacha Catherine, Joachim Roekens\n",
      "--> Corinna Cortes et al. \"AdaNet: Adaptive Structural Learning of Artificial Neural Networks\", 2016.\n",
      "\n",
      "Julien De Cooman, Alexandre Lhoest\n",
      "--> Shibani Santurkar et al, \"How Does Batch Normalization Help Optimization?\", 2018.\n",
      "\n",
      "Lionel Mathy, Pierre-Loup Nicolas\n",
      "--> William H. Beluch et al. \"The power of ensembles for active learning in image classification\", 2018.\n",
      "\n",
      "Seron Damien, Arnaud Delaunoy\n",
      "--> Geoffrey Hinton et al, \"Distilling the Knowledge in a Neural Network\", 2015.\n",
      "\n",
      "Cyril Geortay, Maxime Vandegar\n",
      "--> Ilya Loshchilov and Frank Hutter, \"Decoupled weight decay regularization\", 2019.\n",
      "\n",
      "Maxime Lamborelle, Thibault Renaud\n",
      "--> Alec Radford et al, \"Language Models are Unsupervised Multitask Learners\", 2019.\n",
      "\n",
      "Tom Crasset, Antoine Louis\n",
      "--> BM Lake et al, \"Human-level concept learning through probabilistic Induction\", 2018.\n",
      "\n",
      "Aurélien Werenne, Eduardo Varas Gandara\n",
      "--> Naftali Tishby and Noga Zavlasky, \"Deep Learning and the Information Bottleneck Principle\", 2015.\n",
      "\n"
     ]
    }
   ],
   "source": [
    "import numpy as np\n",
    "np.random.seed(4217)\n",
    "\n",
    "permutation = np.random.permutation(len(papers))\n",
    "for g, t in zip(groups, permutation):\n",
    "    print(g) \n",
    "    print(\"-->\", papers[t])\n",
    "    print()"
   ]
  },
  {
   "cell_type": "code",
   "execution_count": 4,
   "metadata": {},
   "outputs": [
    {
     "name": "stdout",
     "output_type": "stream",
     "text": [
      "Tero Karras et al, \"A Style-Based Generator Architecture for Generative Adversarial Networks\", 2018.\n",
      "Bobak Shahriari et al, \"Taking the human out of the loop bayesian optimization\", 2016.\n",
      "Balaji Lakshminarayanan et al., \"Mondrian forests: efficient online random forests\", 2014.\n",
      "Guillaume Lample et al, \"Phrase-Based & Neural Unsupervised Machine Translation\", 2018.\n",
      "Theodoros Evgeniou et al. \"Learning multiple tasks with kernel methods\", 2005.\n",
      "LG Valiant, \"A theory of the learnable\", 1984.\n",
      "David Ha and Jürgen Schmidhuber, \"World Models\", 2018.\n",
      "Pang Wei Koh and Percy Liang, \"Understanding black-box predictions via influence functions\", 2017.\n"
     ]
    }
   ],
   "source": [
    "# Unassigned papers\n",
    "for t in permutation[len(groups):]:\n",
    "    print(papers[t])"
   ]
  }
 ],
 "metadata": {
  "kernelspec": {
   "display_name": "Python 3",
   "language": "python",
   "name": "python3"
  },
  "language_info": {
   "codemirror_mode": {
    "name": "ipython",
    "version": 3
   },
   "file_extension": ".py",
   "mimetype": "text/x-python",
   "name": "python",
   "nbconvert_exporter": "python",
   "pygments_lexer": "ipython3",
   "version": "3.6.8"
  }
 },
 "nbformat": 4,
 "nbformat_minor": 2
}
